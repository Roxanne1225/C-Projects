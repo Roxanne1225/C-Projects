{
  "nbformat": 4,
  "nbformat_minor": 0,
  "metadata": {
    "kernelspec": {
      "display_name": "Python 3",
      "language": "python",
      "name": "python3"
    },
    "language_info": {
      "codemirror_mode": {
        "name": "ipython",
        "version": 3
      },
      "file_extension": ".py",
      "mimetype": "text/x-python",
      "name": "python",
      "nbconvert_exporter": "python",
      "pygments_lexer": "ipython3",
      "version": "3.7.1-final"
    },
    "colab": {
      "name": "Copy of GradientDescent.ipynb",
      "provenance": [],
      "collapsed_sections": [],
      "include_colab_link": true
    }
  },
  "cells": [
    {
      "cell_type": "markdown",
      "metadata": {
        "id": "view-in-github",
        "colab_type": "text"
      },
      "source": [
        "<a href=\"https://colab.research.google.com/github/Roxanne1225/C-Projects/blob/master/Copy_of_GradientDescent.ipynb\" target=\"_parent\"><img src=\"https://colab.research.google.com/assets/colab-badge.svg\" alt=\"Open In Colab\"/></a>"
      ]
    },
    {
      "cell_type": "markdown",
      "metadata": {
        "id": "OUXUbvIcbmSy"
      },
      "source": [
        "# Data Generation"
      ]
    },
    {
      "cell_type": "code",
      "metadata": {
        "id": "WPlLJzl9bmS6",
        "colab": {
          "base_uri": "https://localhost:8080/",
          "height": 0
        },
        "outputId": "42b8cc48-481e-49e0-85b0-f1ee0a027d1d"
      },
      "source": [
        "%matplotlib inline\n",
        "# latest!!!\n",
        "import numpy as np\n",
        "import numpy.linalg as la\n",
        "import matplotlib.pyplot as plt\n",
        "\n",
        "dim_theta = 10\n",
        "data_num = 1000\n",
        "scale = .1\n",
        "\n",
        "theta_true = np.ones((dim_theta,1))\n",
        "print('True theta:', theta_true.reshape(-1))\n",
        "\n",
        "A = np.random.uniform(low=-1.0, high=1.0, size=(data_num,dim_theta))\n",
        "y_data = A @ theta_true + np.random.normal(loc=0.0, scale=scale, size=(data_num, 1))\n",
        "\n",
        "A_test = np.random.uniform(low=-1.0, high=1.0, size=(50, dim_theta))\n",
        "y_test = A_test @ theta_true + np.random.normal(loc=0.0, scale=scale, size=(50, 1))"
      ],
      "execution_count": 242,
      "outputs": [
        {
          "output_type": "stream",
          "text": [
            "True theta: [1. 1. 1. 1. 1. 1. 1. 1. 1. 1.]\n"
          ],
          "name": "stdout"
        }
      ]
    },
    {
      "cell_type": "markdown",
      "metadata": {
        "id": "ZU_XvbFtbmTT"
      },
      "source": [
        "# Solving for the exact mean squared loss (solving Ax = b)"
      ]
    },
    {
      "cell_type": "code",
      "metadata": {
        "id": "BmhrX7mHbmTW",
        "colab": {
          "base_uri": "https://localhost:8080/",
          "height": 0
        },
        "outputId": "fef37e8d-65df-47d9-d918-3e2e04ab9fc5"
      },
      "source": [
        "print('Not implemented.')\n",
        "\n",
        "'''\n",
        "Hints:\n",
        "1. See the least squares solution to Ax = b (when it is covered in lecture).\n",
        "\n",
        "2. Use Numpy functions like Numpy's linear algebra functions to solve for x in Ax = b.\n",
        "In fact, the linear algebra module is already imported with ```import numpy.linalg as la```.\n",
        "\n",
        "3. Use the defined variable A in Ax = b. Use y_data as b. Use theta_pred as x.\n",
        "'''\n",
        "# theta_pred =  # TODO: Implement the analytical solution\n",
        "theta_pred = la.lstsq(A, y_data, rcond = None)[0]\n",
        "print('Empirical theta', theta_pred.reshape(-1))"
      ],
      "execution_count": 243,
      "outputs": [
        {
          "output_type": "stream",
          "text": [
            "Not implemented.\n",
            "Empirical theta [0.99833251 0.99653268 1.00739729 0.99677629 0.99297486 0.99987283\n",
            " 0.99744514 0.99185846 0.99452631 1.00622345]\n"
          ],
          "name": "stdout"
        }
      ]
    },
    {
      "cell_type": "markdown",
      "metadata": {
        "id": "xeV_SKF_bmTj"
      },
      "source": [
        "# SGD Variants Noisy Function"
      ]
    },
    {
      "cell_type": "code",
      "metadata": {
        "id": "SvwmLrlAbmTn"
      },
      "source": [
        "batch_size = 1\n",
        "max_iter = 1000\n",
        "lr = 0.001\n",
        "theta_init = np.random.random((10,1)) * 0.1"
      ],
      "execution_count": 244,
      "outputs": []
    },
    {
      "cell_type": "code",
      "metadata": {
        "id": "1hVSuTZxbmT2"
      },
      "source": [
        "def noisy_val_grad(theta_hat, data_, label_, deg_=2.):\n",
        "    gradient = np.zeros_like(theta_hat)\n",
        "    loss = 0\n",
        "    \n",
        "    for i in range(data_.shape[0]):\n",
        "        x_ = data_[i, :].reshape(-1,1)\n",
        "        y_ = label_[i, 0]\n",
        "        err = np.sum(x_ * theta_hat) - y_\n",
        "        \n",
        "        # print('Not implemented.')\n",
        "\n",
        "        '''\n",
        "        Hints:\n",
        "        1. Find the gradient and loss for each data point x_.\n",
        "        2. For grad, you need err, deg_, and x_.\n",
        "        3. For l, you need err and deg_ only.\n",
        "        4. Checkout the writeup for more hints.\n",
        "        '''\n",
        "        grad = np.sign(err) * deg_ * np.abs(err) ** (deg_ - 1) * x_ # TODO: Implement the analytical gradient\n",
        "        l = np.abs(err) ** deg_ # TODO: Implement the loss function\n",
        "        \n",
        "        loss += l / data_.shape[0]\n",
        "        gradient += grad / data_.shape[0]\n",
        "        \n",
        "    return loss, gradient"
      ],
      "execution_count": 245,
      "outputs": []
    },
    {
      "cell_type": "markdown",
      "metadata": {
        "id": "B5abUl0ibmUF"
      },
      "source": [
        "# Running SGD Variants"
      ]
    },
    {
      "cell_type": "code",
      "metadata": {
        "id": "xybXkEd7bmUJ",
        "colab": {
          "base_uri": "https://localhost:8080/",
          "height": 596
        },
        "outputId": "ddd9441e-082e-47b6-ea72-80ebb7eca6ad"
      },
      "source": [
        "#@title Parameters\n",
        "#  γ = 0.4, 0.7, 1, 2, 3, and 5\n",
        "deg_ = 5 #@param {type: \"number\"}\n",
        "num_rep = 10 #@param {type: \"integer\"}\n",
        "max_iter = 1000 #@param {type: \"integer\"}\n",
        "fig, ax = plt.subplots(figsize=(10,10))\n",
        "best_vals = {}\n",
        "test_exp_interval = 50 #@param {type: \"integer\"}\n",
        "grad_artificial_normal_noise_scale = 0. #@param {type: \"number\"}"
      ],
      "execution_count": 246,
      "outputs": [
        {
          "output_type": "display_data",
          "data": {
            "image/png": "[encoded data removed]",
            "text/plain": [
              "<Figure size 720x720 with 1 Axes>"
            ]
          },
          "metadata": {
            "tags": [],
            "needs_background": "light"
          }
        }
      ]
    },
    {
      "cell_type": "code",
      "metadata": {
        "id": "UM80QBNFbmUV",
        "colab": {
          "base_uri": "https://localhost:8080/",
          "height": 6130
        },
        "outputId": "5bf43012-8e4c-473d-f8e0-2aa122a68fed"
      },
      "source": [
        "for method_idx, method in enumerate(['adam', 'sgd', 'adagrad']):\n",
        "    test_loss_mat = []\n",
        "    train_loss_mat = []\n",
        "    \n",
        "    for replicate in range(num_rep):\n",
        "        if replicate % 20 == 0:\n",
        "            print(method, replicate)\n",
        "            \n",
        "        if method == 'adam':\n",
        "            # print('Adam Not implemented.')\n",
        "            beta_1 = 0.9\n",
        "            beta_2 = 0.999\n",
        "            # m = NotImplemented # TODO: Initialize parameters\n",
        "            # v = NotImplemented\n",
        "            m = np.zeros_like(theta_init)\n",
        "            v = np.zeros_like(theta_init)\n",
        "            episilon = 1e-8\n",
        "\n",
        "\n",
        "        if method == 'adagrad':\n",
        "            # print('Adagrad Not implemented.')\n",
        "            episilon = 1e-8\n",
        "            grad_square_sum = 0\n",
        "            \n",
        "        theta_hat = theta_init.copy()\n",
        "        test_loss_list = []\n",
        "        train_loss_list = []\n",
        "\n",
        "        for t in range(max_iter):\n",
        "            idx = np.random.choice(data_num, batch_size) # Split data\n",
        "            train_loss, gradient = noisy_val_grad(theta_hat, A[idx,:], y_data[idx,:], deg_=deg_)\n",
        "            artificial_grad_noise = np.random.randn(10, 1) * grad_artificial_normal_noise_scale + np.sign(np.random.random((10, 1)) - 0.5) * 0.\n",
        "            gradient = gradient + artificial_grad_noise\n",
        "            train_loss_list.append(train_loss)\n",
        "            \n",
        "            if t % test_exp_interval == 0:\n",
        "                test_loss, _ = noisy_val_grad(theta_hat, A_test[:,:], y_test[:,:], deg_=deg_)\n",
        "                test_loss_list.append(test_loss)                \n",
        "            \n",
        "            if method == 'adam':\n",
        "                # print('Adam Not implemented.') # TODO: Implement Adam\n",
        "\n",
        "                # m = NotImplemented\n",
        "                # v = NotImplemented\n",
        "                # m_hat = NotImplemented\n",
        "                # v_hat = NotImplemented\n",
        "                # theta_hat = theta_hat - lr * NotImplemented\n",
        "                g_t = gradient\n",
        "                    \n",
        "                m = beta_1 * m + (1 - beta_1) * g_t\n",
        "                v = beta_2 * v + (1 - beta_2) * (g_t ** 2)\n",
        "                \n",
        "                m_hat = m / (1 - (beta_1 ** (t + 1)))\n",
        "                v_hat = v / (1 - (beta_2 ** (t + 1)))\n",
        "                theta_hat = theta_hat - lr * m_hat / (np.sqrt(v_hat) + episilon)\n",
        "                \n",
        "            \n",
        "            elif method == 'adagrad':\n",
        "                # print('Adagrad Not implemented.')\n",
        "                # squared_sum = squared_sum + NotImplemented # TODO: Implement Adagrad\n",
        "                # theta_hat = theta_hat - lr * NotImplemented\n",
        "                g_t = gradient\n",
        "                grad_square_sum += g_t * g_t\n",
        "                theta_hat = theta_hat - (lr * g_t) / np.sqrt(grad_square_sum + episilon)\n",
        "            \n",
        "            elif method == 'sgd':\n",
        "                theta_hat = theta_hat - lr * gradient\n",
        "        \n",
        "        test_loss_mat.append(test_loss_list)\n",
        "        train_loss_mat.append(train_loss_list)\n",
        "        print(replicate)\n",
        "        print(theta_hat)\n",
        "        \n",
        "    print(method, 'done')\n",
        "    x_axis = np.arange(max_iter)[::test_exp_interval]\n",
        "    \n",
        "    print('test_loss_np is a 2d array with num_rep rows and each column denotes a specific update stage in training')\n",
        "    print('The elements of test_loss_np are the test loss values computed in each replicate and training stage.')\n",
        "    test_loss_np = np.array(test_loss_mat)\n",
        "    \n",
        "    # print('Not implemented.')\n",
        "    # '''\n",
        "    # Hints:\n",
        "    # 1. Use test_loss_np in np.mean() with axis = 0\n",
        "    # '''\n",
        "    # test_loss_mean = NotImplemented # TODO: Calculate the mean test loss\n",
        "    test_loss_mean = np.mean(test_loss_np, axis=0)\n",
        "\n",
        "    # '''\n",
        "    # Hints:\n",
        "    # 1. Use test_loss_np in np.std() with axis = 0 \n",
        "    # 2. Divide by np.sqrt() using num_rep as a parameter\n",
        "    # '''\n",
        "    # test_loss_se = NotImplemented # TODO: Calculate the standard error for test loss\n",
        "    test_loss_se = np.std(test_loss_np, axis=0)/(np.sqrt(num_rep))\n",
        "    test_loss_mean = np.sum(test_loss_np, axis=0).reshape(-1) / np.sqrt(num_rep)\n",
        "\n",
        "    plt.errorbar(x_axis, test_loss_mean, yerr=2.5*test_loss_se, label=method)\n",
        "    best_vals[method] = min(test_loss_mean)\n",
        "    print(best_vals)"
      ],
      "execution_count": 247,
      "outputs": [
        {
          "output_type": "stream",
          "text": [
            "adam 0\n",
            "0\n",
            "[[0.23696769]\n",
            " [0.24940505]\n",
            " [0.24021185]\n",
            " [0.18181381]\n",
            " [0.22168391]\n",
            " [0.22427063]\n",
            " [0.19623292]\n",
            " [0.19534109]\n",
            " [0.27047932]\n",
            " [0.24943815]]\n",
            "1\n",
            "[[0.19302668]\n",
            " [0.23443043]\n",
            " [0.24009377]\n",
            " [0.20175039]\n",
            " [0.2892942 ]\n",
            " [0.22192402]\n",
            " [0.21185375]\n",
            " [0.19538409]\n",
            " [0.24912945]\n",
            " [0.23833538]]\n",
            "2\n",
            "[[0.22797019]\n",
            " [0.22541447]\n",
            " [0.23347839]\n",
            " [0.25064379]\n",
            " [0.24907616]\n",
            " [0.23036706]\n",
            " [0.16637236]\n",
            " [0.19082371]\n",
            " [0.23915188]\n",
            " [0.24641084]]\n",
            "3\n",
            "[[0.19603897]\n",
            " [0.21976181]\n",
            " [0.23169638]\n",
            " [0.22091381]\n",
            " [0.27203799]\n",
            " [0.19360145]\n",
            " [0.22081201]\n",
            " [0.18664941]\n",
            " [0.2401927 ]\n",
            " [0.21044815]]\n",
            "4\n",
            "[[0.20345964]\n",
            " [0.23034216]\n",
            " [0.24252145]\n",
            " [0.21272431]\n",
            " [0.24877848]\n",
            " [0.2437874 ]\n",
            " [0.16837019]\n",
            " [0.16779425]\n",
            " [0.25836572]\n",
            " [0.22578052]]\n",
            "5\n",
            "[[0.19887193]\n",
            " [0.21851485]\n",
            " [0.25831622]\n",
            " [0.28328019]\n",
            " [0.26608878]\n",
            " [0.21634655]\n",
            " [0.23810401]\n",
            " [0.18104966]\n",
            " [0.27336504]\n",
            " [0.2072056 ]]\n",
            "6\n",
            "[[0.24016969]\n",
            " [0.25173878]\n",
            " [0.25285985]\n",
            " [0.20747862]\n",
            " [0.27574492]\n",
            " [0.24255537]\n",
            " [0.19367974]\n",
            " [0.1880675 ]\n",
            " [0.24534728]\n",
            " [0.24359105]]\n",
            "7\n",
            "[[0.23723891]\n",
            " [0.25668972]\n",
            " [0.31090964]\n",
            " [0.28053317]\n",
            " [0.24076505]\n",
            " [0.23996272]\n",
            " [0.17698513]\n",
            " [0.19979058]\n",
            " [0.27438929]\n",
            " [0.2552454 ]]\n",
            "8\n",
            "[[0.22522441]\n",
            " [0.25612768]\n",
            " [0.24785013]\n",
            " [0.21149966]\n",
            " [0.31138612]\n",
            " [0.21608425]\n",
            " [0.20538719]\n",
            " [0.21080834]\n",
            " [0.23904184]\n",
            " [0.27879652]]\n",
            "9\n",
            "[[0.23464388]\n",
            " [0.24041533]\n",
            " [0.2616288 ]\n",
            " [0.20916808]\n",
            " [0.25631509]\n",
            " [0.20739339]\n",
            " [0.18701402]\n",
            " [0.17822576]\n",
            " [0.23158722]\n",
            " [0.21409426]]\n",
            "adam done\n",
            "test_loss_np is a 2d array with num_rep rows and each column denotes a specific update stage in training\n",
            "The elements of test_loss_np are the test loss values computed in each replicate and training stage.\n",
            "{'adam': 157.79832813687418}\n",
            "sgd 0\n",
            "0\n",
            "[[0.84772049]\n",
            " [0.89354706]\n",
            " [0.87386048]\n",
            " [0.77951883]\n",
            " [0.83398265]\n",
            " [0.81141055]\n",
            " [0.68359468]\n",
            " [0.70794697]\n",
            " [0.86296657]\n",
            " [0.87314606]]\n",
            "1\n",
            "[[0.90492362]\n",
            " [0.91446044]\n",
            " [0.53384086]\n",
            " [0.9793488 ]\n",
            " [0.95769076]\n",
            " [1.02062272]\n",
            " [0.85775994]\n",
            " [0.87393102]\n",
            " [0.90566717]\n",
            " [0.77631472]]\n",
            "2\n",
            "[[0.84228654]\n",
            " [0.8261038 ]\n",
            " [0.89111963]\n",
            " [0.94536997]\n",
            " [0.71683548]\n",
            " [0.73432263]\n",
            " [0.70018079]\n",
            " [0.68990961]\n",
            " [0.84068011]\n",
            " [0.88409556]]\n",
            "3\n",
            "[[0.84014991]\n",
            " [0.65081782]\n",
            " [0.78302214]\n",
            " [0.93899779]\n",
            " [0.8990335 ]\n",
            " [0.8708564 ]\n",
            " [0.75338781]\n",
            " [0.91142004]\n",
            " [0.92866777]\n",
            " [0.69206387]]\n",
            "4\n",
            "[[0.86066285]\n",
            " [0.97051385]\n",
            " [0.87770146]\n",
            " [0.81549782]\n",
            " [1.08952485]\n",
            " [0.54814565]\n",
            " [1.07549457]\n",
            " [0.79351925]\n",
            " [0.76431167]\n",
            " [1.08343545]]\n",
            "5\n",
            "[[0.76167093]\n",
            " [0.88819205]\n",
            " [0.68708302]\n",
            " [0.85248827]\n",
            " [0.81590682]\n",
            " [0.79415007]\n",
            " [0.93633667]\n",
            " [0.7963149 ]\n",
            " [0.86264056]\n",
            " [0.78439712]]\n",
            "6\n",
            "[[0.82267532]\n",
            " [0.83164663]\n",
            " [0.8359727 ]\n",
            " [0.77061707]\n",
            " [0.95464892]\n",
            " [0.64319617]\n",
            " [0.9118833 ]\n",
            " [0.91730723]\n",
            " [0.80301155]\n",
            " [0.84060124]]\n",
            "7\n",
            "[[0.80429556]\n",
            " [0.86746138]\n",
            " [0.7201276 ]\n",
            " [0.74576598]\n",
            " [0.70239114]\n",
            " [0.79573954]\n",
            " [0.93163071]\n",
            " [0.86109985]\n",
            " [0.88658048]\n",
            " [0.91577045]]\n",
            "8\n",
            "[[0.863494  ]\n",
            " [0.92490941]\n",
            " [0.98065493]\n",
            " [1.01800379]\n",
            " [0.87234315]\n",
            " [1.07097288]\n",
            " [0.53697437]\n",
            " [1.10513143]\n",
            " [0.81323936]\n",
            " [0.89622149]]\n",
            "9\n",
            "[[0.84474946]\n",
            " [0.92740956]\n",
            " [0.85583146]\n",
            " [0.90507432]\n",
            " [0.89643508]\n",
            " [0.66744509]\n",
            " [0.89283752]\n",
            " [0.85402366]\n",
            " [0.63390966]\n",
            " [0.82984273]]\n",
            "sgd done\n",
            "test_loss_np is a 2d array with num_rep rows and each column denotes a specific update stage in training\n",
            "The elements of test_loss_np are the test loss values computed in each replicate and training stage.\n",
            "{'adam': 157.79832813687418, 'sgd': 0.15402235668463446}\n",
            "adagrad 0\n",
            "0\n",
            "[[0.05244287]\n",
            " [0.07782599]\n",
            " [0.09118613]\n",
            " [0.06432517]\n",
            " [0.11009958]\n",
            " [0.07410221]\n",
            " [0.03415219]\n",
            " [0.02833155]\n",
            " [0.10975766]\n",
            " [0.0666392 ]]\n",
            "1\n",
            "[[0.0574474 ]\n",
            " [0.08198057]\n",
            " [0.09198367]\n",
            " [0.06053355]\n",
            " [0.11343022]\n",
            " [0.07672143]\n",
            " [0.03788132]\n",
            " [0.02659601]\n",
            " [0.10521907]\n",
            " [0.0756552 ]]\n",
            "2\n",
            "[[0.05252829]\n",
            " [0.07972146]\n",
            " [0.08917426]\n",
            " [0.05658792]\n",
            " [0.10928083]\n",
            " [0.07308235]\n",
            " [0.03800832]\n",
            " [0.02233794]\n",
            " [0.10454729]\n",
            " [0.06846254]]\n",
            "3\n",
            "[[0.05452487]\n",
            " [0.08183011]\n",
            " [0.09719248]\n",
            " [0.05612281]\n",
            " [0.11056564]\n",
            " [0.07570259]\n",
            " [0.037246  ]\n",
            " [0.02542335]\n",
            " [0.10195172]\n",
            " [0.0714548 ]]\n",
            "4\n",
            "[[0.05138063]\n",
            " [0.0811761 ]\n",
            " [0.0936228 ]\n",
            " [0.05919838]\n",
            " [0.11320914]\n",
            " [0.07227653]\n",
            " [0.03728003]\n",
            " [0.02424507]\n",
            " [0.10733789]\n",
            " [0.06837311]]\n",
            "5\n",
            "[[0.05376818]\n",
            " [0.07853278]\n",
            " [0.09176114]\n",
            " [0.05793973]\n",
            " [0.11011081]\n",
            " [0.07377881]\n",
            " [0.03775633]\n",
            " [0.02791441]\n",
            " [0.10749327]\n",
            " [0.06686645]]\n",
            "6\n",
            "[[0.05503615]\n",
            " [0.08070934]\n",
            " [0.09530696]\n",
            " [0.06450574]\n",
            " [0.11482904]\n",
            " [0.06887616]\n",
            " [0.03928777]\n",
            " [0.02502686]\n",
            " [0.10699047]\n",
            " [0.06778025]]\n",
            "7\n",
            "[[0.05169348]\n",
            " [0.07767696]\n",
            " [0.0903393 ]\n",
            " [0.06108774]\n",
            " [0.11234445]\n",
            " [0.0729201 ]\n",
            " [0.03813323]\n",
            " [0.02348061]\n",
            " [0.10534904]\n",
            " [0.06947235]]\n",
            "8\n",
            "[[0.05535203]\n",
            " [0.0817094 ]\n",
            " [0.09097903]\n",
            " [0.06247108]\n",
            " [0.11503266]\n",
            " [0.07439961]\n",
            " [0.03670169]\n",
            " [0.02652576]\n",
            " [0.10711622]\n",
            " [0.07212032]]\n",
            "9\n",
            "[[0.053401  ]\n",
            " [0.08342324]\n",
            " [0.08990775]\n",
            " [0.059644  ]\n",
            " [0.110879  ]\n",
            " [0.07187874]\n",
            " [0.03909821]\n",
            " [0.02504925]\n",
            " [0.10495245]\n",
            " [0.07185894]]\n",
            "adagrad done\n",
            "test_loss_np is a 2d array with num_rep rows and each column denotes a specific update stage in training\n",
            "The elements of test_loss_np are the test loss values computed in each replicate and training stage.\n",
            "{'adam': 157.79832813687418, 'sgd': 0.15402235668463446, 'adagrad': 387.1505234732764}\n"
          ],
          "name": "stdout"
        },
        {
          "output_type": "display_data",
          "data": {
            "image/png": "[encoded data removed]",
            "text/plain": [
              "<Figure size 432x288 with 1 Axes>"
            ]
          },
          "metadata": {
            "tags": [],
            "needs_background": "light"
          }
        }
      ]
    },
    {
      "cell_type": "code",
      "metadata": {
        "id": "EGmQD7nDbmUg",
        "colab": {
          "base_uri": "https://localhost:8080/",
          "height": 344
        },
        "outputId": "3b65018a-500d-4524-b15c-247b36ea9555"
      },
      "source": [
        "best_vals = { k: int(v * 1000) / 1000. for k,v in best_vals.items() } # A weird way to round numbers\n",
        "plt.title(f'Test Loss \\n(objective degree: {deg_},  best values: {best_vals})')\n",
        "plt.ylabel('Test Loss')\n",
        "plt.legend()\n",
        "plt.xlabel('Updates')"
      ],
      "execution_count": 248,
      "outputs": [
        {
          "output_type": "stream",
          "text": [
            "No handles with labels found to put in legend.\n"
          ],
          "name": "stderr"
        },
        {
          "output_type": "execute_result",
          "data": {
            "text/plain": [
              "Text(0.5, 0, 'Updates')"
            ]
          },
          "metadata": {
            "tags": []
          },
          "execution_count": 248
        },
        {
          "output_type": "display_data",
          "data": {
            "image/png": "[encoded data removed]",
            "text/plain": [
              "<Figure size 432x288 with 1 Axes>"
            ]
          },
          "metadata": {
            "tags": [],
            "needs_background": "light"
          }
        }
      ]
    },
    {
      "cell_type": "code",
      "metadata": {
        "id": "1x2q45_dy68f"
      },
      "source": [
        ""
      ],
      "execution_count": 248,
      "outputs": []
    }
  ]
}